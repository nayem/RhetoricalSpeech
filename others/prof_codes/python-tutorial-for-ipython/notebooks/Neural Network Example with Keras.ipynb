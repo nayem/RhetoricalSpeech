{
 "cells": [
  {
   "cell_type": "markdown",
   "metadata": {},
   "source": [
    "# Neural Network Example with Keras"
   ]
  },
  {
   "cell_type": "markdown",
   "metadata": {},
   "source": [
    "**(C) 2018-2019 by [Damir Cavar](http://damir.cavar.me/)**"
   ]
  },
  {
   "cell_type": "markdown",
   "metadata": {},
   "source": [
    "**Version:** 1.1, January 2019"
   ]
  },
  {
   "cell_type": "markdown",
   "metadata": {},
   "source": [
    "**License:** [Creative Commons Attribution-ShareAlike 4.0 International License](https://creativecommons.org/licenses/by-sa/4.0/) ([CA BY-SA 4.0](https://creativecommons.org/licenses/by-sa/4.0/))"
   ]
  },
  {
   "cell_type": "markdown",
   "metadata": {},
   "source": [
    "This is a tutorial related to the L665 course on Machine Learning for NLP focusing on Deep Learning, Spring 2018 and 2019 at Indiana University."
   ]
  },
  {
   "cell_type": "markdown",
   "metadata": {},
   "source": [
    "This material is based on Jason Brownlee's tutorial [Develop Your First Neural Network in Python With Keras Step-By-Step](https://machinelearningmastery.com/tutorial-first-neural-network-python-keras/). See for more details and explanations this page. All copyrights are his, except on a few small comments that I added."
   ]
  },
  {
   "cell_type": "markdown",
   "metadata": {},
   "source": [
    "[Keras](https://keras.io/) is a neural network module that is running on top of [TensorFlow](https://github.com/tensorflow/tensorflow) (among others). Make sure that you install [TensorFlow](https://github.com/tensorflow/tensorflow) on your system. Go to the [Keras](https://keras.io/) homepage and install the module in Python. This example also requires that *Scipy* and *Numpy* are installed in your system."
   ]
  },
  {
   "cell_type": "markdown",
   "metadata": {},
   "source": [
    "## Introduction"
   ]
  },
  {
   "cell_type": "markdown",
   "metadata": {},
   "source": [
    "As explained in the above tutorial, the steps are:\n",
    "\n",
    "- loading data (prepared for the process, that is vectorized and formated)\n",
    "- defining a model (layers)\n",
    "- compiling the model\n",
    "- fitting the model\n",
    "- evaluating the model\n"
   ]
  },
  {
   "cell_type": "markdown",
   "metadata": {},
   "source": [
    "We have to import the necessary modules from Keras:"
   ]
  },
  {
   "cell_type": "code",
   "execution_count": 14,
   "metadata": {},
   "outputs": [],
   "source": [
    "from keras.models import Sequential\n",
    "from keras.layers import Dense"
   ]
  },
  {
   "cell_type": "markdown",
   "metadata": {},
   "source": [
    "We will use numpy as well:"
   ]
  },
  {
   "cell_type": "code",
   "execution_count": 15,
   "metadata": {},
   "outputs": [],
   "source": [
    "import numpy"
   ]
  },
  {
   "cell_type": "markdown",
   "metadata": {},
   "source": [
    "In his tutorial, as linked above, Jason Brownlee suggests that we initialize the random number generator with a fixed number to make sure that the results are the same at every run, since the learning algorithm makes use of a stochastic process. We initialize the random number generator with 7:"
   ]
  },
  {
   "cell_type": "code",
   "execution_count": 16,
   "metadata": {},
   "outputs": [],
   "source": [
    "numpy.random.seed(7)"
   ]
  },
  {
   "cell_type": "markdown",
   "metadata": {},
   "source": [
    "The data-set suggested in Brownlee's tutorial is [Pima Indians Diabetes Data Set](https://archive.ics.uci.edu/ml/datasets/Pima+Indians+Diabetes). The required file can be downloaded [using this link](http://archive.ics.uci.edu/ml/machine-learning-databases/pima-indians-diabetes/pima-indians-diabetes.data). It is available in the local *data* subfolder with the *.csv* filename-ending."
   ]
  },
  {
   "cell_type": "code",
   "execution_count": 17,
   "metadata": {},
   "outputs": [],
   "source": [
    "dataset = numpy.loadtxt(\"data/pima-indians-diabetes.csv\", delimiter=\",\")"
   ]
  },
  {
   "cell_type": "markdown",
   "metadata": {},
   "source": [
    "The data is organized as follows: the first 8 columns per row define the features, that is the input variables for the neural network. The last column defines the output as a binary value of $0$ or $1$. We can separate those two from the dataset into two variables:"
   ]
  },
  {
   "cell_type": "code",
   "execution_count": 19,
   "metadata": {},
   "outputs": [],
   "source": [
    "X = dataset[:,0:8]\n",
    "Y = dataset[:,8]"
   ]
  },
  {
   "cell_type": "markdown",
   "metadata": {},
   "source": [
    "Just to verify the content:"
   ]
  },
  {
   "cell_type": "code",
   "execution_count": 20,
   "metadata": {},
   "outputs": [
    {
     "data": {
      "text/plain": [
       "array([[  6.   , 148.   ,  72.   , ...,  33.6  ,   0.627,  50.   ],\n",
       "       [  1.   ,  85.   ,  66.   , ...,  26.6  ,   0.351,  31.   ],\n",
       "       [  8.   , 183.   ,  64.   , ...,  23.3  ,   0.672,  32.   ],\n",
       "       ...,\n",
       "       [  5.   , 121.   ,  72.   , ...,  26.2  ,   0.245,  30.   ],\n",
       "       [  1.   , 126.   ,  60.   , ...,  30.1  ,   0.349,  47.   ],\n",
       "       [  1.   ,  93.   ,  70.   , ...,  30.4  ,   0.315,  23.   ]])"
      ]
     },
     "execution_count": 20,
     "metadata": {},
     "output_type": "execute_result"
    }
   ],
   "source": [
    "X"
   ]
  },
  {
   "cell_type": "code",
   "execution_count": 21,
   "metadata": {},
   "outputs": [
    {
     "data": {
      "text/plain": [
       "array([1., 0., 1., 0., 1., 0., 1., 0., 1., 1., 0., 1., 0., 1., 1., 1., 1.,\n",
       "       1., 0., 1., 0., 0., 1., 1., 1., 1., 1., 0., 0., 0., 0., 1., 0., 0.,\n",
       "       0., 0., 0., 1., 1., 1., 0., 0., 0., 1., 0., 1., 0., 0., 1., 0., 0.,\n",
       "       0., 0., 1., 0., 0., 1., 0., 0., 0., 0., 1., 0., 0., 1., 0., 1., 0.,\n",
       "       0., 0., 1., 0., 1., 0., 0., 0., 0., 0., 1., 0., 0., 0., 0., 0., 1.,\n",
       "       0., 0., 0., 1., 0., 0., 0., 0., 1., 0., 0., 0., 0., 0., 1., 1., 0.,\n",
       "       0., 0., 0., 0., 0., 0., 0., 1., 1., 1., 0., 0., 1., 1., 1., 0., 0.,\n",
       "       0., 1., 0., 0., 0., 1., 1., 0., 0., 1., 1., 1., 1., 1., 0., 0., 0.,\n",
       "       0., 0., 0., 0., 0., 0., 0., 1., 0., 0., 0., 0., 0., 0., 0., 0., 1.,\n",
       "       0., 1., 1., 0., 0., 0., 1., 0., 0., 0., 0., 1., 1., 0., 0., 0., 0.,\n",
       "       1., 1., 0., 0., 0., 1., 0., 1., 0., 1., 0., 0., 0., 0., 0., 1., 1.,\n",
       "       1., 1., 1., 0., 0., 1., 1., 0., 1., 0., 1., 1., 1., 0., 0., 0., 0.,\n",
       "       0., 0., 1., 1., 0., 1., 0., 0., 0., 1., 1., 1., 1., 0., 1., 1., 1.,\n",
       "       1., 0., 0., 0., 0., 0., 1., 0., 0., 1., 1., 0., 0., 0., 1., 1., 1.,\n",
       "       1., 0., 0., 0., 1., 1., 0., 1., 0., 0., 0., 0., 0., 0., 0., 0., 1.,\n",
       "       1., 0., 0., 0., 1., 0., 1., 0., 0., 1., 0., 1., 0., 0., 1., 1., 0.,\n",
       "       0., 0., 0., 0., 1., 0., 0., 0., 1., 0., 0., 1., 1., 0., 0., 1., 0.,\n",
       "       0., 0., 1., 1., 1., 0., 0., 1., 0., 1., 0., 1., 1., 0., 1., 0., 0.,\n",
       "       1., 0., 1., 1., 0., 0., 1., 0., 1., 0., 0., 1., 0., 1., 0., 1., 1.,\n",
       "       1., 0., 0., 1., 0., 1., 0., 0., 0., 1., 0., 0., 0., 0., 1., 1., 1.,\n",
       "       0., 0., 0., 0., 0., 0., 0., 0., 0., 1., 0., 0., 0., 0., 0., 1., 1.,\n",
       "       1., 0., 1., 1., 0., 0., 1., 0., 0., 1., 0., 0., 1., 1., 0., 0., 0.,\n",
       "       0., 1., 0., 0., 1., 0., 0., 0., 0., 0., 0., 0., 1., 1., 1., 0., 0.,\n",
       "       1., 0., 0., 1., 0., 0., 1., 0., 1., 1., 0., 1., 0., 1., 0., 1., 0.,\n",
       "       1., 1., 0., 0., 0., 0., 1., 1., 0., 1., 0., 1., 0., 0., 0., 0., 1.,\n",
       "       1., 0., 1., 0., 1., 0., 0., 0., 0., 0., 1., 0., 0., 0., 0., 1., 0.,\n",
       "       0., 1., 1., 1., 0., 0., 1., 0., 0., 1., 0., 0., 0., 1., 0., 0., 1.,\n",
       "       0., 0., 0., 0., 0., 0., 0., 0., 0., 1., 0., 0., 0., 0., 0., 0., 0.,\n",
       "       1., 0., 0., 0., 1., 0., 0., 0., 1., 1., 0., 0., 0., 0., 0., 0., 0.,\n",
       "       1., 0., 0., 0., 0., 1., 0., 0., 0., 1., 0., 0., 0., 1., 0., 0., 0.,\n",
       "       1., 0., 0., 0., 0., 1., 1., 0., 0., 0., 0., 0., 0., 1., 0., 0., 0.,\n",
       "       0., 0., 0., 0., 0., 0., 0., 0., 1., 0., 0., 0., 1., 1., 1., 1., 0.,\n",
       "       0., 1., 1., 0., 0., 0., 0., 0., 0., 0., 0., 0., 0., 0., 0., 0., 1.,\n",
       "       1., 0., 0., 0., 0., 0., 0., 0., 1., 0., 0., 0., 0., 0., 0., 0., 1.,\n",
       "       0., 1., 1., 0., 0., 0., 1., 0., 1., 0., 1., 0., 1., 0., 1., 0., 0.,\n",
       "       1., 0., 0., 1., 0., 0., 0., 0., 1., 1., 0., 1., 0., 0., 0., 0., 1.,\n",
       "       1., 0., 1., 0., 0., 0., 1., 1., 0., 0., 0., 0., 0., 0., 0., 0., 0.,\n",
       "       0., 1., 0., 0., 0., 0., 1., 0., 0., 1., 0., 0., 0., 1., 0., 0., 0.,\n",
       "       1., 1., 1., 0., 0., 0., 0., 0., 0., 1., 0., 0., 0., 1., 0., 1., 1.,\n",
       "       1., 1., 0., 1., 1., 0., 0., 0., 0., 0., 0., 0., 1., 1., 0., 1., 0.,\n",
       "       0., 1., 0., 1., 0., 0., 0., 0., 0., 1., 0., 1., 0., 1., 0., 1., 1.,\n",
       "       0., 0., 0., 0., 1., 1., 0., 0., 0., 1., 0., 1., 1., 0., 0., 1., 0.,\n",
       "       0., 1., 1., 0., 0., 1., 0., 0., 1., 0., 0., 0., 0., 0., 0., 0., 1.,\n",
       "       1., 1., 0., 0., 0., 0., 0., 0., 1., 1., 0., 0., 1., 0., 0., 1., 0.,\n",
       "       1., 1., 1., 0., 0., 1., 1., 1., 0., 1., 0., 1., 0., 1., 0., 0., 0.,\n",
       "       0., 1., 0.])"
      ]
     },
     "execution_count": 21,
     "metadata": {},
     "output_type": "execute_result"
    }
   ],
   "source": [
    "Y"
   ]
  },
  {
   "cell_type": "markdown",
   "metadata": {},
   "source": [
    "We will define our model in the next step. The first layer is the input layer. It is set to have 8 inputs for the 8 variables using the attribute *input_dim*. The *Dense* class defines the layers to be fully connected. The number of neurons is specified as the first argument to the initializer. We are choosing also the activation function using the *activation* attribute. This should be clear from the presentations in class and other examples and discussions on related notebooks here in this collection. The output layer consists of one neuron and uses the *sigmoid* activation function to return a weight between $0$ and $1$:"
   ]
  },
  {
   "cell_type": "code",
   "execution_count": 22,
   "metadata": {},
   "outputs": [],
   "source": [
    "model = Sequential()\n",
    "model.add(Dense(12, input_dim=8, activation='relu'))\n",
    "model.add(Dense(8, activation='relu'))\n",
    "model.add(Dense(1, activation='sigmoid'))"
   ]
  },
  {
   "cell_type": "markdown",
   "metadata": {},
   "source": [
    "The defined network needs to be compiled. The compilation process creates a specific implementation of it using the backend (e.g. TensorFlow or Theano), decides whether a GPU or a CPU will be used, which loss and optimization function to select, and which metrics should be collected during training. In this case we use the **binary cross-entropy** as a loss function, the efficient implementation of a gradient decent algorithm called **Adam**, and we store the classification accuracy for the output and analysis."
   ]
  },
  {
   "cell_type": "code",
   "execution_count": 23,
   "metadata": {},
   "outputs": [],
   "source": [
    "model.compile(loss='binary_crossentropy', optimizer='adam', metrics=['accuracy'])"
   ]
  },
  {
   "cell_type": "markdown",
   "metadata": {},
   "source": [
    "The training of the model is achieved by calling the *fit* method. The parameters specify the input matrix and output vector in our case, as well as the number of iterations through the data set for training, called **epochs**. The **batch size** specifies the number of instances that are evaluated before an update of the parameters is applied."
   ]
  },
  {
   "cell_type": "code",
   "execution_count": 24,
   "metadata": {},
   "outputs": [
    {
     "name": "stdout",
     "output_type": "stream",
     "text": [
      "Epoch 1/150\n",
      "768/768 [==============================] - 0s 307us/step - loss: 3.7073 - acc: 0.5990\n",
      "Epoch 2/150\n",
      "768/768 [==============================] - 0s 100us/step - loss: 0.9360 - acc: 0.5938\n",
      "Epoch 3/150\n",
      "768/768 [==============================] - 0s 96us/step - loss: 0.7472 - acc: 0.6406\n",
      "Epoch 4/150\n",
      "768/768 [==============================] - 0s 94us/step - loss: 0.7115 - acc: 0.6576\n",
      "Epoch 5/150\n",
      "768/768 [==============================] - 0s 99us/step - loss: 0.6823 - acc: 0.6745\n",
      "Epoch 6/150\n",
      "768/768 [==============================] - 0s 97us/step - loss: 0.6511 - acc: 0.6849\n",
      "Epoch 7/150\n",
      "768/768 [==============================] - 0s 107us/step - loss: 0.6495 - acc: 0.6771\n",
      "Epoch 8/150\n",
      "768/768 [==============================] - 0s 103us/step - loss: 0.6369 - acc: 0.6836\n",
      "Epoch 9/150\n",
      "768/768 [==============================] - 0s 112us/step - loss: 0.6246 - acc: 0.6979\n",
      "Epoch 10/150\n",
      "768/768 [==============================] - 0s 103us/step - loss: 0.6293 - acc: 0.6771\n",
      "Epoch 11/150\n",
      "768/768 [==============================] - 0s 98us/step - loss: 0.6472 - acc: 0.6758\n",
      "Epoch 12/150\n",
      "768/768 [==============================] - 0s 95us/step - loss: 0.6378 - acc: 0.6706\n",
      "Epoch 13/150\n",
      "768/768 [==============================] - 0s 99us/step - loss: 0.6253 - acc: 0.6758\n",
      "Epoch 14/150\n",
      "768/768 [==============================] - 0s 94us/step - loss: 0.6168 - acc: 0.7018\n",
      "Epoch 15/150\n",
      "768/768 [==============================] - 0s 94us/step - loss: 0.6017 - acc: 0.6953\n",
      "Epoch 16/150\n",
      "768/768 [==============================] - 0s 104us/step - loss: 0.5876 - acc: 0.7018\n",
      "Epoch 17/150\n",
      "768/768 [==============================] - 0s 103us/step - loss: 0.5844 - acc: 0.7005\n",
      "Epoch 18/150\n",
      "768/768 [==============================] - 0s 96us/step - loss: 0.6007 - acc: 0.6862\n",
      "Epoch 19/150\n",
      "768/768 [==============================] - 0s 101us/step - loss: 0.5805 - acc: 0.7083\n",
      "Epoch 20/150\n",
      "768/768 [==============================] - 0s 98us/step - loss: 0.5807 - acc: 0.7161\n",
      "Epoch 21/150\n",
      "768/768 [==============================] - 0s 100us/step - loss: 0.5687 - acc: 0.7135\n",
      "Epoch 22/150\n",
      "768/768 [==============================] - 0s 103us/step - loss: 0.5823 - acc: 0.6940\n",
      "Epoch 23/150\n",
      "768/768 [==============================] - 0s 97us/step - loss: 0.5741 - acc: 0.7135\n",
      "Epoch 24/150\n",
      "768/768 [==============================] - 0s 97us/step - loss: 0.5678 - acc: 0.7292\n",
      "Epoch 25/150\n",
      "768/768 [==============================] - 0s 104us/step - loss: 0.5580 - acc: 0.7344\n",
      "Epoch 26/150\n",
      "768/768 [==============================] - 0s 97us/step - loss: 0.5704 - acc: 0.7057\n",
      "Epoch 27/150\n",
      "768/768 [==============================] - 0s 99us/step - loss: 0.5557 - acc: 0.7227\n",
      "Epoch 28/150\n",
      "768/768 [==============================] - 0s 93us/step - loss: 0.5552 - acc: 0.7279\n",
      "Epoch 29/150\n",
      "768/768 [==============================] - 0s 91us/step - loss: 0.5741 - acc: 0.7135\n",
      "Epoch 30/150\n",
      "768/768 [==============================] - 0s 100us/step - loss: 0.5609 - acc: 0.7214\n",
      "Epoch 31/150\n",
      "768/768 [==============================] - 0s 105us/step - loss: 0.5687 - acc: 0.7174\n",
      "Epoch 32/150\n",
      "768/768 [==============================] - 0s 98us/step - loss: 0.5647 - acc: 0.7096\n",
      "Epoch 33/150\n",
      "768/768 [==============================] - 0s 98us/step - loss: 0.5518 - acc: 0.7201\n",
      "Epoch 34/150\n",
      "768/768 [==============================] - 0s 105us/step - loss: 0.5490 - acc: 0.7331\n",
      "Epoch 35/150\n",
      "768/768 [==============================] - 0s 96us/step - loss: 0.5492 - acc: 0.7214\n",
      "Epoch 36/150\n",
      "768/768 [==============================] - 0s 104us/step - loss: 0.5654 - acc: 0.7083\n",
      "Epoch 37/150\n",
      "768/768 [==============================] - 0s 105us/step - loss: 0.5333 - acc: 0.7396\n",
      "Epoch 38/150\n",
      "768/768 [==============================] - 0s 100us/step - loss: 0.5407 - acc: 0.7214\n",
      "Epoch 39/150\n",
      "768/768 [==============================] - 0s 92us/step - loss: 0.5460 - acc: 0.7201\n",
      "Epoch 40/150\n",
      "768/768 [==============================] - 0s 101us/step - loss: 0.5453 - acc: 0.7227\n",
      "Epoch 41/150\n",
      "768/768 [==============================] - 0s 98us/step - loss: 0.5425 - acc: 0.7318\n",
      "Epoch 42/150\n",
      "768/768 [==============================] - 0s 99us/step - loss: 0.5381 - acc: 0.7448\n",
      "Epoch 43/150\n",
      "768/768 [==============================] - 0s 104us/step - loss: 0.5312 - acc: 0.7526\n",
      "Epoch 44/150\n",
      "768/768 [==============================] - 0s 96us/step - loss: 0.5337 - acc: 0.7409\n",
      "Epoch 45/150\n",
      "768/768 [==============================] - 0s 104us/step - loss: 0.5318 - acc: 0.7513\n",
      "Epoch 46/150\n",
      "768/768 [==============================] - 0s 100us/step - loss: 0.5316 - acc: 0.7500\n",
      "Epoch 47/150\n",
      "768/768 [==============================] - 0s 98us/step - loss: 0.5325 - acc: 0.7422\n",
      "Epoch 48/150\n",
      "768/768 [==============================] - 0s 98us/step - loss: 0.5331 - acc: 0.7422\n",
      "Epoch 49/150\n",
      "768/768 [==============================] - 0s 97us/step - loss: 0.5334 - acc: 0.7487\n",
      "Epoch 50/150\n",
      "768/768 [==============================] - 0s 104us/step - loss: 0.5270 - acc: 0.7370\n",
      "Epoch 51/150\n",
      "768/768 [==============================] - 0s 99us/step - loss: 0.5275 - acc: 0.7487\n",
      "Epoch 52/150\n",
      "768/768 [==============================] - 0s 95us/step - loss: 0.5310 - acc: 0.7461\n",
      "Epoch 53/150\n",
      "768/768 [==============================] - 0s 106us/step - loss: 0.5410 - acc: 0.7409\n",
      "Epoch 54/150\n",
      "768/768 [==============================] - 0s 98us/step - loss: 0.5384 - acc: 0.7214\n",
      "Epoch 55/150\n",
      "768/768 [==============================] - 0s 96us/step - loss: 0.5220 - acc: 0.7565\n",
      "Epoch 56/150\n",
      "768/768 [==============================] - 0s 99us/step - loss: 0.5283 - acc: 0.7448\n",
      "Epoch 57/150\n",
      "768/768 [==============================] - 0s 95us/step - loss: 0.5308 - acc: 0.7383\n",
      "Epoch 58/150\n",
      "768/768 [==============================] - 0s 92us/step - loss: 0.5221 - acc: 0.7552\n",
      "Epoch 59/150\n",
      "768/768 [==============================] - 0s 98us/step - loss: 0.5133 - acc: 0.7617\n",
      "Epoch 60/150\n",
      "768/768 [==============================] - 0s 101us/step - loss: 0.5354 - acc: 0.7344\n",
      "Epoch 61/150\n",
      "768/768 [==============================] - 0s 97us/step - loss: 0.5276 - acc: 0.7357\n",
      "Epoch 62/150\n",
      "768/768 [==============================] - 0s 91us/step - loss: 0.5163 - acc: 0.7526\n",
      "Epoch 63/150\n",
      "768/768 [==============================] - 0s 103us/step - loss: 0.5437 - acc: 0.7357\n",
      "Epoch 64/150\n",
      "768/768 [==============================] - 0s 94us/step - loss: 0.5304 - acc: 0.7396\n",
      "Epoch 65/150\n",
      "768/768 [==============================] - 0s 90us/step - loss: 0.5214 - acc: 0.7448\n",
      "Epoch 66/150\n",
      "768/768 [==============================] - 0s 95us/step - loss: 0.5067 - acc: 0.7474\n",
      "Epoch 67/150\n",
      "768/768 [==============================] - 0s 94us/step - loss: 0.5156 - acc: 0.7383\n",
      "Epoch 68/150\n",
      "768/768 [==============================] - 0s 93us/step - loss: 0.5129 - acc: 0.7526\n",
      "Epoch 69/150\n",
      "768/768 [==============================] - 0s 104us/step - loss: 0.5129 - acc: 0.7461\n",
      "Epoch 70/150\n",
      "768/768 [==============================] - 0s 94us/step - loss: 0.5367 - acc: 0.7188\n",
      "Epoch 71/150\n",
      "768/768 [==============================] - 0s 92us/step - loss: 0.5176 - acc: 0.7448\n",
      "Epoch 72/150\n",
      "768/768 [==============================] - 0s 90us/step - loss: 0.5172 - acc: 0.7422\n",
      "Epoch 73/150\n",
      "768/768 [==============================] - 0s 100us/step - loss: 0.5171 - acc: 0.7461\n",
      "Epoch 74/150\n",
      "768/768 [==============================] - 0s 93us/step - loss: 0.5101 - acc: 0.7604\n",
      "Epoch 75/150\n",
      "768/768 [==============================] - 0s 93us/step - loss: 0.5099 - acc: 0.7578\n",
      "Epoch 76/150\n",
      "768/768 [==============================] - 0s 98us/step - loss: 0.5126 - acc: 0.7539\n",
      "Epoch 77/150\n",
      "768/768 [==============================] - 0s 88us/step - loss: 0.5162 - acc: 0.7591\n",
      "Epoch 78/150\n",
      "768/768 [==============================] - 0s 100us/step - loss: 0.5120 - acc: 0.7487\n",
      "Epoch 79/150\n",
      "768/768 [==============================] - 0s 91us/step - loss: 0.5143 - acc: 0.7331\n",
      "Epoch 80/150\n",
      "768/768 [==============================] - 0s 92us/step - loss: 0.5123 - acc: 0.7526\n",
      "Epoch 81/150\n",
      "768/768 [==============================] - 0s 98us/step - loss: 0.5074 - acc: 0.7669\n",
      "Epoch 82/150\n",
      "768/768 [==============================] - 0s 91us/step - loss: 0.5048 - acc: 0.7539\n",
      "Epoch 83/150\n",
      "768/768 [==============================] - 0s 88us/step - loss: 0.5003 - acc: 0.7591\n",
      "Epoch 84/150\n"
     ]
    },
    {
     "name": "stdout",
     "output_type": "stream",
     "text": [
      "768/768 [==============================] - 0s 104us/step - loss: 0.4986 - acc: 0.7591\n",
      "Epoch 85/150\n",
      "768/768 [==============================] - 0s 91us/step - loss: 0.5063 - acc: 0.7448\n",
      "Epoch 86/150\n",
      "768/768 [==============================] - 0s 86us/step - loss: 0.5071 - acc: 0.7539\n",
      "Epoch 87/150\n",
      "768/768 [==============================] - 0s 86us/step - loss: 0.4994 - acc: 0.7513\n",
      "Epoch 88/150\n",
      "768/768 [==============================] - 0s 91us/step - loss: 0.5012 - acc: 0.7630\n",
      "Epoch 89/150\n",
      "768/768 [==============================] - 0s 87us/step - loss: 0.5061 - acc: 0.7643\n",
      "Epoch 90/150\n",
      "768/768 [==============================] - 0s 88us/step - loss: 0.5090 - acc: 0.7526\n",
      "Epoch 91/150\n",
      "768/768 [==============================] - 0s 90us/step - loss: 0.5036 - acc: 0.7539\n",
      "Epoch 92/150\n",
      "768/768 [==============================] - 0s 88us/step - loss: 0.5061 - acc: 0.7422\n",
      "Epoch 93/150\n",
      "768/768 [==============================] - 0s 86us/step - loss: 0.4996 - acc: 0.7617\n",
      "Epoch 94/150\n",
      "768/768 [==============================] - 0s 85us/step - loss: 0.4999 - acc: 0.7565\n",
      "Epoch 95/150\n",
      "768/768 [==============================] - 0s 90us/step - loss: 0.5071 - acc: 0.7500\n",
      "Epoch 96/150\n",
      "768/768 [==============================] - 0s 92us/step - loss: 0.4954 - acc: 0.7552\n",
      "Epoch 97/150\n",
      "768/768 [==============================] - 0s 94us/step - loss: 0.5025 - acc: 0.7695\n",
      "Epoch 98/150\n",
      "768/768 [==============================] - 0s 89us/step - loss: 0.4919 - acc: 0.7617\n",
      "Epoch 99/150\n",
      "768/768 [==============================] - 0s 86us/step - loss: 0.4921 - acc: 0.7604\n",
      "Epoch 100/150\n",
      "768/768 [==============================] - 0s 90us/step - loss: 0.4853 - acc: 0.7734\n",
      "Epoch 101/150\n",
      "768/768 [==============================] - 0s 87us/step - loss: 0.4910 - acc: 0.7656\n",
      "Epoch 102/150\n",
      "768/768 [==============================] - 0s 87us/step - loss: 0.4980 - acc: 0.7591\n",
      "Epoch 103/150\n",
      "768/768 [==============================] - 0s 86us/step - loss: 0.5022 - acc: 0.7500\n",
      "Epoch 104/150\n",
      "768/768 [==============================] - 0s 84us/step - loss: 0.4944 - acc: 0.7865\n",
      "Epoch 105/150\n",
      "768/768 [==============================] - 0s 91us/step - loss: 0.5302 - acc: 0.7513\n",
      "Epoch 106/150\n",
      "768/768 [==============================] - 0s 105us/step - loss: 0.4920 - acc: 0.7734\n",
      "Epoch 107/150\n",
      "768/768 [==============================] - 0s 107us/step - loss: 0.4919 - acc: 0.7643\n",
      "Epoch 108/150\n",
      "768/768 [==============================] - 0s 105us/step - loss: 0.4988 - acc: 0.7747\n",
      "Epoch 109/150\n",
      "768/768 [==============================] - 0s 102us/step - loss: 0.4870 - acc: 0.7656\n",
      "Epoch 110/150\n",
      "768/768 [==============================] - 0s 103us/step - loss: 0.4908 - acc: 0.7643\n",
      "Epoch 111/150\n",
      "768/768 [==============================] - 0s 107us/step - loss: 0.4842 - acc: 0.7734\n",
      "Epoch 112/150\n",
      "768/768 [==============================] - 0s 89us/step - loss: 0.4906 - acc: 0.7669\n",
      "Epoch 113/150\n",
      "768/768 [==============================] - 0s 95us/step - loss: 0.4982 - acc: 0.7630\n",
      "Epoch 114/150\n",
      "768/768 [==============================] - 0s 89us/step - loss: 0.4933 - acc: 0.7591\n",
      "Epoch 115/150\n",
      "768/768 [==============================] - 0s 95us/step - loss: 0.4909 - acc: 0.7786\n",
      "Epoch 116/150\n",
      "768/768 [==============================] - 0s 89us/step - loss: 0.4934 - acc: 0.7760\n",
      "Epoch 117/150\n",
      "768/768 [==============================] - 0s 92us/step - loss: 0.4910 - acc: 0.7630\n",
      "Epoch 118/150\n",
      "768/768 [==============================] - 0s 88us/step - loss: 0.4887 - acc: 0.7852\n",
      "Epoch 119/150\n",
      "768/768 [==============================] - 0s 87us/step - loss: 0.4838 - acc: 0.7669\n",
      "Epoch 120/150\n",
      "768/768 [==============================] - 0s 90us/step - loss: 0.4931 - acc: 0.7773\n",
      "Epoch 121/150\n",
      "768/768 [==============================] - 0s 88us/step - loss: 0.4925 - acc: 0.7708\n",
      "Epoch 122/150\n",
      "768/768 [==============================] - 0s 88us/step - loss: 0.4840 - acc: 0.7760\n",
      "Epoch 123/150\n",
      "768/768 [==============================] - 0s 87us/step - loss: 0.4807 - acc: 0.7721\n",
      "Epoch 124/150\n",
      "768/768 [==============================] - 0s 87us/step - loss: 0.4825 - acc: 0.7839\n",
      "Epoch 125/150\n",
      "768/768 [==============================] - 0s 99us/step - loss: 0.4874 - acc: 0.7786\n",
      "Epoch 126/150\n",
      "768/768 [==============================] - 0s 88us/step - loss: 0.4810 - acc: 0.7786\n",
      "Epoch 127/150\n",
      "768/768 [==============================] - 0s 86us/step - loss: 0.4899 - acc: 0.7695\n",
      "Epoch 128/150\n",
      "768/768 [==============================] - 0s 90us/step - loss: 0.4720 - acc: 0.7721\n",
      "Epoch 129/150\n",
      "768/768 [==============================] - 0s 92us/step - loss: 0.4804 - acc: 0.7721\n",
      "Epoch 130/150\n",
      "768/768 [==============================] - 0s 92us/step - loss: 0.4743 - acc: 0.7865\n",
      "Epoch 131/150\n",
      "768/768 [==============================] - 0s 88us/step - loss: 0.4808 - acc: 0.7695\n",
      "Epoch 132/150\n",
      "768/768 [==============================] - 0s 90us/step - loss: 0.4830 - acc: 0.7839\n",
      "Epoch 133/150\n",
      "768/768 [==============================] - 0s 90us/step - loss: 0.4828 - acc: 0.7695\n",
      "Epoch 134/150\n",
      "768/768 [==============================] - 0s 90us/step - loss: 0.4843 - acc: 0.7747\n",
      "Epoch 135/150\n",
      "768/768 [==============================] - 0s 89us/step - loss: 0.4783 - acc: 0.7734\n",
      "Epoch 136/150\n",
      "768/768 [==============================] - 0s 89us/step - loss: 0.4742 - acc: 0.7760\n",
      "Epoch 137/150\n",
      "768/768 [==============================] - 0s 89us/step - loss: 0.4663 - acc: 0.7786\n",
      "Epoch 138/150\n",
      "768/768 [==============================] - 0s 84us/step - loss: 0.4801 - acc: 0.7826\n",
      "Epoch 139/150\n",
      "768/768 [==============================] - 0s 86us/step - loss: 0.4651 - acc: 0.7917\n",
      "Epoch 140/150\n",
      "768/768 [==============================] - 0s 98us/step - loss: 0.4829 - acc: 0.7812\n",
      "Epoch 141/150\n",
      "768/768 [==============================] - 0s 88us/step - loss: 0.4738 - acc: 0.7826\n",
      "Epoch 142/150\n",
      "768/768 [==============================] - 0s 93us/step - loss: 0.4829 - acc: 0.7695\n",
      "Epoch 143/150\n",
      "768/768 [==============================] - 0s 90us/step - loss: 0.4757 - acc: 0.7708\n",
      "Epoch 144/150\n",
      "768/768 [==============================] - 0s 91us/step - loss: 0.4761 - acc: 0.7773\n",
      "Epoch 145/150\n",
      "768/768 [==============================] - 0s 89us/step - loss: 0.4901 - acc: 0.7643\n",
      "Epoch 146/150\n",
      "768/768 [==============================] - 0s 89us/step - loss: 0.4893 - acc: 0.7721\n",
      "Epoch 147/150\n",
      "768/768 [==============================] - 0s 87us/step - loss: 0.4830 - acc: 0.7826\n",
      "Epoch 148/150\n",
      "768/768 [==============================] - 0s 96us/step - loss: 0.4736 - acc: 0.7708\n",
      "Epoch 149/150\n",
      "768/768 [==============================] - 0s 94us/step - loss: 0.4747 - acc: 0.7656\n",
      "Epoch 150/150\n",
      "768/768 [==============================] - 0s 91us/step - loss: 0.4761 - acc: 0.7708\n"
     ]
    },
    {
     "data": {
      "text/plain": [
       "<keras.callbacks.History at 0x7f3d864eaf98>"
      ]
     },
     "execution_count": 24,
     "metadata": {},
     "output_type": "execute_result"
    }
   ],
   "source": [
    "model.fit(X, Y, epochs=150, batch_size=10)"
   ]
  },
  {
   "cell_type": "markdown",
   "metadata": {},
   "source": [
    "The evaluation is available via the *evaluate* method. In our case we print out the accuracy:"
   ]
  },
  {
   "cell_type": "code",
   "execution_count": 25,
   "metadata": {},
   "outputs": [
    {
     "name": "stdout",
     "output_type": "stream",
     "text": [
      "768/768 [==============================] - 0s 69us/step\n",
      "\n",
      "acc: 79.43%\n"
     ]
    }
   ],
   "source": [
    "scores = model.evaluate(X, Y)\n",
    "print(\"\\n%s: %.2f%%\" % (model.metrics_names[1], scores[1]*100))"
   ]
  },
  {
   "cell_type": "markdown",
   "metadata": {},
   "source": [
    "We can now make predictions by calling the *predict* method with the input matrix as a parameter. In this case we are using the training data to predict the output classifier. This is in general not a good idea. Here it just serves the purpose of showing how the methods are used:"
   ]
  },
  {
   "cell_type": "code",
   "execution_count": 26,
   "metadata": {},
   "outputs": [],
   "source": [
    "predictions = model.predict(X)"
   ]
  },
  {
   "cell_type": "code",
   "execution_count": 27,
   "metadata": {},
   "outputs": [
    {
     "name": "stdout",
     "output_type": "stream",
     "text": [
      "[1.0, 0.0, 1.0, 0.0, 1.0, 0.0, 0.0, 0.0, 1.0, 0.0, 0.0, 1.0, 1.0, 1.0, 1.0, 0.0, 0.0, 0.0, 1.0, 0.0, 0.0, 0.0, 1.0, 0.0, 1.0, 1.0, 1.0, 0.0, 0.0, 0.0, 0.0, 1.0, 0.0, 0.0, 1.0, 1.0, 1.0, 1.0, 0.0, 1.0, 1.0, 1.0, 0.0, 1.0, 1.0, 1.0, 1.0, 0.0, 0.0, 0.0, 0.0, 0.0, 0.0, 1.0, 1.0, 0.0, 1.0, 0.0, 1.0, 0.0, 0.0, 1.0, 0.0, 1.0, 1.0, 0.0, 0.0, 0.0, 0.0, 0.0, 0.0, 1.0, 1.0, 0.0, 0.0, 0.0, 0.0, 0.0, 1.0, 0.0, 0.0, 0.0, 0.0, 0.0, 0.0, 0.0, 1.0, 0.0, 1.0, 0.0, 0.0, 0.0, 0.0, 0.0, 0.0, 1.0, 0.0, 0.0, 0.0, 0.0, 1.0, 1.0, 0.0, 0.0, 0.0, 0.0, 0.0, 1.0, 0.0, 0.0, 1.0, 1.0, 0.0, 0.0, 1.0, 1.0, 1.0, 0.0, 0.0, 0.0, 1.0, 0.0, 0.0, 0.0, 0.0, 1.0, 0.0, 0.0, 0.0, 0.0, 1.0, 1.0, 1.0, 0.0, 0.0, 0.0, 0.0, 0.0, 0.0, 0.0, 0.0, 0.0, 0.0, 1.0, 1.0, 0.0, 0.0, 0.0, 0.0, 0.0, 0.0, 0.0, 1.0, 1.0, 1.0, 1.0, 0.0, 0.0, 0.0, 1.0, 0.0, 0.0, 0.0, 0.0, 0.0, 0.0, 0.0, 1.0, 0.0, 0.0, 0.0, 1.0, 0.0, 0.0, 0.0, 1.0, 0.0, 1.0, 1.0, 1.0, 0.0, 0.0, 0.0, 0.0, 1.0, 1.0, 1.0, 0.0, 1.0, 1.0, 0.0, 0.0, 1.0, 1.0, 0.0, 1.0, 0.0, 0.0, 0.0, 1.0, 0.0, 0.0, 0.0, 0.0, 1.0, 0.0, 1.0, 1.0, 0.0, 1.0, 0.0, 0.0, 1.0, 1.0, 1.0, 1.0, 0.0, 1.0, 0.0, 1.0, 1.0, 1.0, 0.0, 1.0, 0.0, 0.0, 0.0, 1.0, 1.0, 0.0, 1.0, 1.0, 0.0, 1.0, 0.0, 1.0, 1.0, 1.0, 1.0, 0.0, 0.0, 0.0, 1.0, 1.0, 1.0, 1.0, 1.0, 1.0, 1.0, 0.0, 0.0, 0.0, 0.0, 0.0, 1.0, 0.0, 0.0, 0.0, 1.0, 1.0, 1.0, 1.0, 0.0, 1.0, 1.0, 0.0, 1.0, 0.0, 0.0, 1.0, 1.0, 0.0, 0.0, 0.0, 0.0, 0.0, 0.0, 0.0, 0.0, 0.0, 1.0, 1.0, 0.0, 1.0, 0.0, 1.0, 1.0, 0.0, 0.0, 0.0, 0.0, 0.0, 0.0, 1.0, 0.0, 1.0, 1.0, 0.0, 1.0, 0.0, 1.0, 1.0, 0.0, 0.0, 0.0, 0.0, 1.0, 0.0, 0.0, 0.0, 0.0, 0.0, 1.0, 0.0, 1.0, 0.0, 0.0, 1.0, 0.0, 1.0, 0.0, 0.0, 0.0, 1.0, 0.0, 1.0, 0.0, 1.0, 0.0, 0.0, 1.0, 0.0, 1.0, 0.0, 0.0, 1.0, 0.0, 0.0, 1.0, 1.0, 0.0, 0.0, 0.0, 0.0, 0.0, 0.0, 1.0, 0.0, 0.0, 1.0, 0.0, 0.0, 0.0, 0.0, 0.0, 1.0, 1.0, 1.0, 0.0, 1.0, 1.0, 0.0, 0.0, 0.0, 1.0, 0.0, 0.0, 0.0, 0.0, 0.0, 1.0, 0.0, 0.0, 0.0, 1.0, 1.0, 0.0, 0.0, 1.0, 0.0, 0.0, 0.0, 0.0, 0.0, 0.0, 0.0, 0.0, 0.0, 1.0, 0.0, 0.0, 1.0, 0.0, 0.0, 1.0, 1.0, 1.0, 0.0, 0.0, 1.0, 0.0, 0.0, 0.0, 0.0, 1.0, 0.0, 0.0, 0.0, 1.0, 1.0, 0.0, 0.0, 0.0, 0.0, 0.0, 1.0, 0.0, 1.0, 0.0, 1.0, 0.0, 0.0, 0.0, 0.0, 1.0, 1.0, 0.0, 1.0, 0.0, 0.0, 0.0, 0.0, 0.0, 0.0, 0.0, 1.0, 1.0, 1.0, 0.0, 0.0, 1.0, 0.0, 0.0, 1.0, 1.0, 1.0, 0.0, 0.0, 0.0, 0.0, 0.0, 0.0, 0.0, 0.0, 0.0, 1.0, 0.0, 0.0, 1.0, 0.0, 0.0, 0.0, 0.0, 0.0, 0.0, 0.0, 0.0, 0.0, 0.0, 1.0, 0.0, 0.0, 1.0, 1.0, 0.0, 1.0, 0.0, 0.0, 0.0, 1.0, 1.0, 0.0, 0.0, 0.0, 1.0, 0.0, 1.0, 1.0, 0.0, 1.0, 0.0, 0.0, 0.0, 1.0, 0.0, 0.0, 0.0, 0.0, 1.0, 1.0, 0.0, 0.0, 1.0, 0.0, 0.0, 0.0, 0.0, 0.0, 0.0, 0.0, 0.0, 0.0, 0.0, 0.0, 0.0, 1.0, 1.0, 1.0, 0.0, 1.0, 0.0, 0.0, 0.0, 1.0, 1.0, 0.0, 0.0, 0.0, 0.0, 0.0, 0.0, 0.0, 0.0, 0.0, 0.0, 1.0, 0.0, 0.0, 0.0, 1.0, 1.0, 0.0, 0.0, 0.0, 0.0, 1.0, 1.0, 0.0, 0.0, 1.0, 0.0, 0.0, 0.0, 0.0, 0.0, 1.0, 0.0, 0.0, 1.0, 0.0, 1.0, 1.0, 0.0, 0.0, 0.0, 0.0, 0.0, 1.0, 1.0, 0.0, 0.0, 0.0, 0.0, 0.0, 0.0, 0.0, 1.0, 1.0, 1.0, 1.0, 1.0, 0.0, 0.0, 0.0, 1.0, 0.0, 1.0, 0.0, 1.0, 0.0, 1.0, 0.0, 1.0, 0.0, 1.0, 1.0, 0.0, 0.0, 1.0, 0.0, 0.0, 0.0, 0.0, 1.0, 1.0, 1.0, 1.0, 0.0, 1.0, 0.0, 0.0, 1.0, 1.0, 0.0, 1.0, 0.0, 0.0, 0.0, 1.0, 1.0, 0.0, 0.0, 1.0, 0.0, 0.0, 0.0, 0.0, 0.0, 1.0, 0.0, 1.0, 0.0, 0.0, 0.0, 0.0, 1.0, 0.0, 0.0, 0.0, 0.0, 0.0, 1.0, 1.0, 0.0, 0.0, 1.0, 1.0, 1.0, 1.0, 0.0, 0.0, 0.0, 0.0, 0.0, 0.0, 1.0, 0.0, 1.0, 0.0, 0.0, 1.0, 1.0, 1.0, 1.0, 1.0, 0.0, 1.0, 1.0, 1.0, 0.0, 1.0, 0.0, 0.0, 0.0, 0.0, 1.0, 1.0, 0.0, 1.0, 0.0, 0.0, 1.0, 0.0, 0.0, 0.0, 0.0, 0.0, 0.0, 0.0, 1.0, 0.0, 1.0, 0.0, 1.0, 0.0, 1.0, 1.0, 1.0, 0.0, 1.0, 0.0, 1.0, 1.0, 0.0, 0.0, 0.0, 0.0, 0.0, 1.0, 0.0, 1.0, 0.0, 1.0, 0.0, 0.0, 1.0, 1.0, 0.0, 0.0, 0.0, 0.0, 0.0, 1.0, 0.0, 0.0, 0.0, 0.0, 0.0, 0.0, 0.0, 0.0, 0.0, 1.0, 0.0, 0.0, 0.0, 0.0, 0.0, 0.0, 0.0, 1.0, 0.0, 0.0, 1.0, 1.0, 0.0, 0.0, 0.0, 1.0, 1.0, 1.0, 0.0, 0.0, 1.0, 1.0, 0.0, 0.0, 1.0, 0.0, 1.0, 0.0, 1.0, 0.0, 1.0, 0.0, 1.0, 1.0, 0.0]\n"
     ]
    }
   ],
   "source": [
    "rounded = [round(x[0]) for x in predictions]\n",
    "print(rounded)"
   ]
  },
  {
   "cell_type": "code",
   "execution_count": null,
   "metadata": {
    "collapsed": true
   },
   "outputs": [],
   "source": []
  }
 ],
 "metadata": {
  "kernelspec": {
   "display_name": "Python 3",
   "language": "python",
   "name": "python3"
  },
  "language_info": {
   "codemirror_mode": {
    "name": "ipython",
    "version": 3
   },
   "file_extension": ".py",
   "mimetype": "text/x-python",
   "name": "python",
   "nbconvert_exporter": "python",
   "pygments_lexer": "ipython3",
   "version": "3.6.7"
  },
  "latex_envs": {
   "LaTeX_envs_menu_present": true,
   "autoclose": false,
   "autocomplete": true,
   "bibliofile": "biblio.bib",
   "cite_by": "apalike",
   "current_citInitial": 1,
   "eqLabelWithNumbers": true,
   "eqNumInitial": 1,
   "hotkeys": {
    "equation": "Ctrl-E",
    "itemize": "Ctrl-I"
   },
   "labels_anchors": false,
   "latex_user_defs": false,
   "report_style_numbering": false,
   "user_envs_cfg": false
  },
  "latex_metadata": {
   "affiliation": "Indiana University, Bloomington, IN, USA",
   "author": "Damir Cavar",
   "title": "Neural Network Example with Keras"
  }
 },
 "nbformat": 4,
 "nbformat_minor": 2
}
