{
 "cells": [
  {
   "cell_type": "code",
   "execution_count": 1,
   "metadata": {},
   "outputs": [],
   "source": [
    "import  glob\n",
    "import  os\n",
    "os.environ[\"CUDA_DEVICE_ORDER\"]=\"PCI_BUS_ID\"\n",
    "os.environ[\"CUDA_VISIBLE_DEVICES\"]=\"0\"\n",
    "\n",
    "import  librosa\n",
    "import  librosa.display\n",
    "import numpy as np\n",
    "import matplotlib.pyplot as plt\n",
    "from matplotlib.pyplot import specgram\n",
    "from scipy import signal\n",
    "\n",
    "\n",
    "%matplotlib inline\n",
    "plt.style.use('ggplot')"
   ]
  },
  {
   "cell_type": "code",
   "execution_count": 2,
   "metadata": {},
   "outputs": [
    {
     "name": "stderr",
     "output_type": "stream",
     "text": [
      "Using TensorFlow backend.\n"
     ]
    }
   ],
   "source": [
    "import tensorflow as tf\n",
    "from keras.preprocessing.text import one_hot\n",
    "from keras.preprocessing.sequence import pad_sequences\n",
    "from keras.models import Sequential, Model\n",
    "from keras.layers import Input, Dense, Dropout, Flatten, Reshape\n",
    "from keras.layers.embeddings import Embedding\n",
    "from keras.utils.np_utils import to_categorical\n",
    "from keras.layers import Input, LSTM, GRU, Dense\n",
    "from keras.layers import Bidirectional\n",
    "\n",
    "from keras.layers.convolutional import Convolution2D\n",
    "from keras.layers.convolutional import MaxPooling2D, ZeroPadding2D\n",
    "from keras.layers.normalization import BatchNormalization\n",
    "from keras.layers.recurrent import GRU\n"
   ]
  },
  {
   "cell_type": "code",
   "execution_count": 3,
   "metadata": {},
   "outputs": [],
   "source": [
    "ROOT_DIRECTORY = 'dataset/'\n",
    "\n",
    "declarative_CLASS_train = 'NLP_Declarative/NLP_train_16k/*.wav'\n",
    "question_CLASS_train = 'NLP_Question/NLP_train_16k/*.wav'\n",
    "\n",
    "declarative_CLASS_test = 'NLP_Declarative/NLP_test_16k/*.wav'\n",
    "question_CLASS_test = 'NLP_Question/NLP_test_16k/*.wav'\n",
    "\n",
    "\n",
    "declarative_CLASS_val = 'NLP_Declarative/NLP_val_16k/*.wav'\n",
    "question_CLASS_val = 'NLP_Question/NLP_val_16k/*.wav'\n",
    "\n",
    "\n",
    "train_percentile = 0.8\n",
    "test_percentile = 0.2"
   ]
  },
  {
   "cell_type": "code",
   "execution_count": 4,
   "metadata": {},
   "outputs": [],
   "source": [
    "def filenames_list(directory_path):\n",
    "#     For running in whole dataset\n",
    "#     return [filename for filename in glob.glob(directory_path) ]\n",
    "    return [filename for filename in glob.glob(directory_path) if np.random.uniform(0,1)>=0.9]"
   ]
  },
  {
   "cell_type": "code",
   "execution_count": 5,
   "metadata": {},
   "outputs": [
    {
     "name": "stdout",
     "output_type": "stream",
     "text": [
      "len(dec_files_list_train): 1292\n",
      "len(ques_files_list_train): 1125\n"
     ]
    }
   ],
   "source": [
    "dec_files_list_train=filenames_list(ROOT_DIRECTORY+declarative_CLASS_train)\n",
    "ques_files_list_train=filenames_list(ROOT_DIRECTORY+question_CLASS_train)\n",
    "\n",
    "print('len(dec_files_list_train):',len(dec_files_list_train))\n",
    "print('len(ques_files_list_train):',len(ques_files_list_train))"
   ]
  },
  {
   "cell_type": "code",
   "execution_count": 6,
   "metadata": {},
   "outputs": [
    {
     "name": "stdout",
     "output_type": "stream",
     "text": [
      "len(dec_files_list_test): 280\n",
      "len(ques_files_list_test): 1125\n"
     ]
    }
   ],
   "source": [
    "dec_files_list_test=filenames_list(ROOT_DIRECTORY+declarative_CLASS_test)\n",
    "ques_files_list_test=filenames_list(ROOT_DIRECTORY+question_CLASS_test)\n",
    "\n",
    "print('len(dec_files_list_test):',len(dec_files_list_test))\n",
    "print('len(ques_files_list_test):',len(ques_files_list_train))"
   ]
  },
  {
   "cell_type": "code",
   "execution_count": 7,
   "metadata": {},
   "outputs": [
    {
     "name": "stdout",
     "output_type": "stream",
     "text": [
      "len(dec_files_list_val): 68\n",
      "len(ques_files_list_val): 76\n"
     ]
    }
   ],
   "source": [
    "dec_files_list_val=filenames_list(ROOT_DIRECTORY+declarative_CLASS_val)\n",
    "ques_files_list_val=filenames_list(ROOT_DIRECTORY+question_CLASS_val)\n",
    "\n",
    "print('len(dec_files_list_val):',len(dec_files_list_val))\n",
    "print('len(ques_files_list_val):',len(ques_files_list_val))"
   ]
  },
  {
   "cell_type": "code",
   "execution_count": null,
   "metadata": {},
   "outputs": [],
   "source": [
    "# print(len(dec_files_list_train), len(dec_files_list_test), len(dec_files_list_val))\n",
    "# print(len(ques_files_list_train), len(ques_files_list_test), len(ques_files_list_val))"
   ]
  },
  {
   "cell_type": "code",
   "execution_count": 65,
   "metadata": {},
   "outputs": [],
   "source": [
    "def extract_mfcc(file_name):\n",
    "    X, sample_rate = librosa.load(file_name)\n",
    "#     print (\"Features :\",len(X), X.shape, \"sampled at \", sample_rate, \"hz\")\n",
    "#     stft = np.abs(librosa.stft(X))\n",
    "    mfccs = librosa.feature.mfcc(y=X, sr=sample_rate, n_mfcc=40)\n",
    "    mel_spect = librosa.feature.melspectrogram(y=X, sr=sample_rate,n_mels=128,fmax=8000)\n",
    "    \n",
    "    window_size=10\n",
    "    step_size=5\n",
    "    eps=1e-10\n",
    "    nperseg = int(round(window_size * sample_rate / 1e3))\n",
    "    noverlap = int(round(step_size * sample_rate / 1e3))\n",
    "    \n",
    "    _,_,spect = signal.spectrogram(X, fs=sample_rate, window='hann', nperseg=nperseg, noverlap=noverlap,detrend=False)\n",
    "    \n",
    "#     chroma = np.mean(librosa.feature.chroma_stft(S=stft, sr=sample_rate).T,axis=0)\n",
    "#     mel = np.mean(librosa.feature.melspectrogram(X, sr=sample_rate).T,axis=0)\n",
    "#     contrast = np.mean(librosa.feature.spectral_contrast(S=stft, sr=sample_rate).T,axis=0)\n",
    "#     tonnetz = np.mean(librosa.feature.tonnetz(y=librosa.effects.harmonic(X), sr=sample_rate).T,axis=0)\n",
    "    return mfccs,mel_spect,np.log(spect.T.astype(np.float32) + eps).T"
   ]
  },
  {
   "cell_type": "code",
   "execution_count": 105,
   "metadata": {},
   "outputs": [],
   "source": [
    "Max_RNN=500\n"
   ]
  },
  {
   "cell_type": "code",
   "execution_count": 106,
   "metadata": {},
   "outputs": [],
   "source": [
    "def parse_audio_files(filename_list, label, Max_RNN):\n",
    "    FEATURE = 'MFCC'\n",
    "    \n",
    "    max_len=-999999\n",
    "    Xs_train=[]\n",
    "    Xs_test=[]\n",
    "#     probability = [float(v) for v in percentiles.values()]\n",
    "    \n",
    "#     features, labels = np.empty((0,193)), np.empty(0)\n",
    "\n",
    "    for e,fn in enumerate(filename_list):\n",
    "        mfccs,mel_spect,spect = extract_mfcc(fn)\n",
    "        \n",
    "        if FEATURE == 'SPECT':\n",
    "            _,_,mfccs = extract_mfcc(fn)\n",
    "#             print(mfccs.shape)\n",
    "\n",
    "            if len(mfccs[0])> max_len:\n",
    "                max_len=len(mfccs[0])\n",
    "\n",
    "            mfccs=np.pad(mfccs, [(0, 0), (0, Max_RNN-len(mfccs[0]))], mode='constant')\n",
    "            Xs_train.append(mfccs)\n",
    "            \n",
    "        elif FEATURE == 'MFCC':\n",
    "            mfccs,_,_ = extract_mfcc(fn)\n",
    "#             print(mfccs.shape)\n",
    "\n",
    "            if len(mfccs[0])> max_len:\n",
    "                max_len=len(mfccs[0])\n",
    "\n",
    "            mfccs=np.pad(mfccs, [(0, 0), (0, Max_RNN-len(mfccs[0]))], mode='constant')\n",
    "            Xs_train.append(mfccs.T)\n",
    "        \n",
    "#         portion =  np.random.choice(2, 1, p=probability)\n",
    "#         if portion == 0:\n",
    "#             Xs_train.append(mfccs.T)\n",
    "#         elif portion == 1:\n",
    "#             Xs_test.append(mfccs.T)\n",
    "            \n",
    "#         print(mfccs.shape)\n",
    "#         Xs_train.append(mfccs.T)\n",
    "    #### Label for training\n",
    "    if label == 'declarative':\n",
    "        Ys_train = to_categorical(np.ones(len(Xs_train)),2)\n",
    "#         Ys_test = to_categorical(np.ones(len(Xs_test)),2)\n",
    "        \n",
    "    elif label == 'question':\n",
    "        Ys_train = to_categorical(np.zeros(len(Xs_train)),2)\n",
    "#         Ys_test = to_categorical(np.zeros(len(Xs_test)),2)\n",
    "    \n",
    "    Xs_train = np.array(Xs_train)\n",
    "#     Xs_test = np.array(Xs_test)\n",
    "    return Xs_train, Ys_train, max_len \n",
    "        \n",
    "#     for label, sub_dir in enumerate(sub_dirs):\n",
    "#         for fn in glob.glob(os.path.join(parent_dir, sub_dir, file_ext)):\n",
    "#             try:\n",
    "#                 mfccs, chroma, mel, contrast, tonnetz = extract_feature(fn)\n",
    "#                 ext_features = np.hstack([mfccs,chroma,mel,contrast,tonnetz])\n",
    "#                 features = np.vstack([features,ext_features])\n",
    "#                 labels = np.append(labels, fn.split('fold')[1].split('-')[1])\n",
    "#             except:\n",
    "#                 print(\"Error processing \" + fn + \" - skipping\")\n",
    "#     return np.array(features), np.array(labels, dtype = np.int)"
   ]
  },
  {
   "cell_type": "markdown",
   "metadata": {},
   "source": [
    "### Creating mfcc vectors for declarative and questions"
   ]
  },
  {
   "cell_type": "code",
   "execution_count": 107,
   "metadata": {},
   "outputs": [
    {
     "name": "stdout",
     "output_type": "stream",
     "text": [
      "(1283, 111, 2500) (1283, 2)\n"
     ]
    }
   ],
   "source": [
    "dec_Xs_train, dec_Ys_train, dec_max_len=parse_audio_files(dec_files_list_train, \"declarative\", Max_RNN)\n",
    "print(dec_Xs_train.shape, dec_Ys_train.shape)"
   ]
  },
  {
   "cell_type": "code",
   "execution_count": 108,
   "metadata": {},
   "outputs": [],
   "source": [
    "dec_Xs_test, dec_Ys_test, dec_max_len_test=parse_audio_files(dec_files_list_test, \"declarative\", Max_RNN)\n",
    "dec_Xs_val, dec_Ys_val, dec_max_len_val=parse_audio_files(dec_files_list_val, \"declarative\", Max_RNN)"
   ]
  },
  {
   "cell_type": "code",
   "execution_count": 109,
   "metadata": {},
   "outputs": [
    {
     "name": "stdout",
     "output_type": "stream",
     "text": [
      "(278, 111, 2500) (278, 2)\n",
      "(61, 111, 2500) (61, 2)\n"
     ]
    }
   ],
   "source": [
    "print(dec_Xs_test.shape, dec_Ys_test.shape)\n",
    "print(dec_Xs_val.shape, dec_Ys_val.shape)"
   ]
  },
  {
   "cell_type": "code",
   "execution_count": 110,
   "metadata": {},
   "outputs": [],
   "source": [
    "ques_Xs_train, ques_Ys_train, ques_max_len_train=parse_audio_files(ques_files_list_train, \"question\", Max_RNN)"
   ]
  },
  {
   "cell_type": "code",
   "execution_count": 111,
   "metadata": {},
   "outputs": [],
   "source": [
    "ques_Xs_test, ques_Ys_test, ques_max_len_test=parse_audio_files(ques_files_list_test, \"question\", Max_RNN)\n",
    "ques_Xs_val, ques_Ys_val, ques_max_len_val=parse_audio_files(ques_files_list_val, \"question\", Max_RNN)"
   ]
  },
  {
   "cell_type": "code",
   "execution_count": null,
   "metadata": {},
   "outputs": [],
   "source": [
    "# percentiles = {'train':train_percentile, 'test':test_percentile}\n",
    "# dec_Xs_train, dec_Xs_test, dec_Ys_train, dec_Ys_test, dec_max_len=parse_audio_files(percentiles, dec_files_list, \"declarative\", Max_RNN)\n",
    "\n",
    "# print(len(dec_Xs_train), len(dec_Ys_train), len(dec_Xs_test), len(dec_Ys_test), \"Max Len: \", dec_max_len)"
   ]
  },
  {
   "cell_type": "markdown",
   "metadata": {},
   "source": [
    "### Write data into files"
   ]
  },
  {
   "cell_type": "code",
   "execution_count": 112,
   "metadata": {},
   "outputs": [],
   "source": [
    "def write_file(file_name, vector_name):\n",
    "    ### Writing training data S\n",
    "\n",
    "    with open(file_name, 'wb') as fs:\n",
    "        for val in vector_name:\n",
    "#             print(val)\n",
    "#             sn, sr=librosa.load(fname_list[i], sr=None)\n",
    "#             Sn=librosa.stft(sn, n_fft=1024, hop_length=512)\n",
    "# #             mag_Sn=np.abs(Sn)\n",
    "#     #         trn_arr=np.concatenate((trn_arr, mag_Sn), axis=1)\n",
    "            np.savetxt(fs, val, fmt='%.5f')\n",
    "            fs.write(b'\\n')\n",
    "    fs.close()            \n",
    "\n"
   ]
  },
  {
   "cell_type": "markdown",
   "metadata": {},
   "source": [
    "### Write data for MFCC"
   ]
  },
  {
   "cell_type": "markdown",
   "metadata": {},
   "source": [
    "Run this or other one."
   ]
  },
  {
   "cell_type": "code",
   "execution_count": 113,
   "metadata": {},
   "outputs": [],
   "source": [
    "write_file(\"dec_Xs_val_full_mfcc.txt\", dec_Xs_val)\n",
    "write_file(\"ques_Xs_val_full_mfcc.txt\", ques_Xs_val)"
   ]
  },
  {
   "cell_type": "code",
   "execution_count": 114,
   "metadata": {},
   "outputs": [],
   "source": [
    "write_file(\"dec_Xs_test_full_mfcc.txt\", dec_Xs_test)\n",
    "write_file(\"ques_Xs_test_full_mfcc.txt\", ques_Xs_test)"
   ]
  },
  {
   "cell_type": "code",
   "execution_count": null,
   "metadata": {},
   "outputs": [],
   "source": [
    "write_file(\"dec_Xs_train_full_mfcc.txt\", dec_Xs_train)\n",
    "write_file(\"ques_Xs_train_full_mfcc.txt\", ques_Xs_train)"
   ]
  },
  {
   "cell_type": "markdown",
   "metadata": {},
   "source": [
    "### Write data for Spectogram"
   ]
  },
  {
   "cell_type": "markdown",
   "metadata": {},
   "source": [
    "Run this or other one."
   ]
  },
  {
   "cell_type": "code",
   "execution_count": null,
   "metadata": {},
   "outputs": [],
   "source": [
    "write_file(\"dec_Xs_val_full_spec.txt\", dec_Xs_val)\n",
    "write_file(\"ques_Xs_val_full_spec.txt\", ques_Xs_val)"
   ]
  },
  {
   "cell_type": "code",
   "execution_count": null,
   "metadata": {},
   "outputs": [],
   "source": [
    "write_file(\"dec_Xs_test_full_spec.txt\", dec_Xs_test)\n",
    "write_file(\"ques_Xs_test_full_spec.txt\", ques_Xs_test)"
   ]
  },
  {
   "cell_type": "code",
   "execution_count": 116,
   "metadata": {},
   "outputs": [],
   "source": [
    "write_file(\"dec_Xs_train_full_spec.txt\", dec_Xs_train)\n",
    "write_file(\"ques_Xs_train_full_spec.txt\", ques_Xs_train)"
   ]
  },
  {
   "cell_type": "markdown",
   "metadata": {},
   "source": [
    "### Read data from files"
   ]
  },
  {
   "cell_type": "code",
   "execution_count": 117,
   "metadata": {},
   "outputs": [],
   "source": [
    "### Function for Reading file\n",
    "\n",
    "def read_file(file_name):\n",
    "    with open(file_name) as f:\n",
    "        lines=f.readlines()\n",
    "        print(len(lines))\n",
    "        sentence_full=[]\n",
    "        count = 0\n",
    "        sentence=[]\n",
    "        for line in lines:\n",
    "\n",
    "            if count < Max_RNN:\n",
    "                if count ==0:\n",
    "                    sentence=np.array(np.fromstring(line, dtype=float, sep=' '), ndmin=2)\n",
    "                    count+=1\n",
    "                else:\n",
    "                    myarray = np.array(np.fromstring(line, dtype=float, sep=' '), ndmin=2)\n",
    "                    sentence=np.concatenate((sentence, myarray), axis=0)\n",
    "                    count+=1\n",
    "            else:\n",
    "                sentence_full.append(sentence) \n",
    "                count=0\n",
    "                sentence=[]\n",
    "        return sentence_full\n"
   ]
  },
  {
   "cell_type": "markdown",
   "metadata": {},
   "source": [
    "### Read MFCC data from file"
   ]
  },
  {
   "cell_type": "markdown",
   "metadata": {},
   "source": [
    "Run this one or other."
   ]
  },
  {
   "cell_type": "code",
   "execution_count": 118,
   "metadata": {},
   "outputs": [
    {
     "name": "stdout",
     "output_type": "stream",
     "text": [
      "6832\n"
     ]
    },
    {
     "ename": "ValueError",
     "evalue": "all the input array dimensions except for the concatenation axis must match exactly",
     "output_type": "error",
     "traceback": [
      "\u001b[0;31m---------------------------------------------------------------------------\u001b[0m",
      "\u001b[0;31mValueError\u001b[0m                                Traceback (most recent call last)",
      "\u001b[0;32m<ipython-input-118-489ce4faafe3>\u001b[0m in \u001b[0;36m<module>\u001b[0;34m()\u001b[0m\n\u001b[0;32m----> 1\u001b[0;31m \u001b[0mdec_Xs_val_file\u001b[0m \u001b[0;34m=\u001b[0m \u001b[0mread_file\u001b[0m\u001b[0;34m(\u001b[0m\u001b[0;34m\"dec_Xs_val_full_mfcc.txt\"\u001b[0m\u001b[0;34m)\u001b[0m\u001b[0;34m\u001b[0m\u001b[0m\n\u001b[0m\u001b[1;32m      2\u001b[0m \u001b[0mques_Xs_val_file\u001b[0m \u001b[0;34m=\u001b[0m \u001b[0mread_file\u001b[0m\u001b[0;34m(\u001b[0m\u001b[0;34m\"ques_Xs_val_full_mfcc.txt\"\u001b[0m\u001b[0;34m)\u001b[0m\u001b[0;34m\u001b[0m\u001b[0m\n\u001b[1;32m      3\u001b[0m \u001b[0;34m\u001b[0m\u001b[0m\n",
      "\u001b[0;32m<ipython-input-117-2f10adabadbf>\u001b[0m in \u001b[0;36mread_file\u001b[0;34m(file_name)\u001b[0m\n\u001b[1;32m     16\u001b[0m                 \u001b[0;32melse\u001b[0m\u001b[0;34m:\u001b[0m\u001b[0;34m\u001b[0m\u001b[0m\n\u001b[1;32m     17\u001b[0m                     \u001b[0mmyarray\u001b[0m \u001b[0;34m=\u001b[0m \u001b[0mnp\u001b[0m\u001b[0;34m.\u001b[0m\u001b[0marray\u001b[0m\u001b[0;34m(\u001b[0m\u001b[0mnp\u001b[0m\u001b[0;34m.\u001b[0m\u001b[0mfromstring\u001b[0m\u001b[0;34m(\u001b[0m\u001b[0mline\u001b[0m\u001b[0;34m,\u001b[0m \u001b[0mdtype\u001b[0m\u001b[0;34m=\u001b[0m\u001b[0mfloat\u001b[0m\u001b[0;34m,\u001b[0m \u001b[0msep\u001b[0m\u001b[0;34m=\u001b[0m\u001b[0;34m' '\u001b[0m\u001b[0;34m)\u001b[0m\u001b[0;34m,\u001b[0m \u001b[0mndmin\u001b[0m\u001b[0;34m=\u001b[0m\u001b[0;36m2\u001b[0m\u001b[0;34m)\u001b[0m\u001b[0;34m\u001b[0m\u001b[0m\n\u001b[0;32m---> 18\u001b[0;31m                     \u001b[0msentence\u001b[0m\u001b[0;34m=\u001b[0m\u001b[0mnp\u001b[0m\u001b[0;34m.\u001b[0m\u001b[0mconcatenate\u001b[0m\u001b[0;34m(\u001b[0m\u001b[0;34m(\u001b[0m\u001b[0msentence\u001b[0m\u001b[0;34m,\u001b[0m \u001b[0mmyarray\u001b[0m\u001b[0;34m)\u001b[0m\u001b[0;34m,\u001b[0m \u001b[0maxis\u001b[0m\u001b[0;34m=\u001b[0m\u001b[0;36m0\u001b[0m\u001b[0;34m)\u001b[0m\u001b[0;34m\u001b[0m\u001b[0m\n\u001b[0m\u001b[1;32m     19\u001b[0m                     \u001b[0mcount\u001b[0m\u001b[0;34m+=\u001b[0m\u001b[0;36m1\u001b[0m\u001b[0;34m\u001b[0m\u001b[0m\n\u001b[1;32m     20\u001b[0m             \u001b[0;32melse\u001b[0m\u001b[0;34m:\u001b[0m\u001b[0;34m\u001b[0m\u001b[0m\n",
      "\u001b[0;31mValueError\u001b[0m: all the input array dimensions except for the concatenation axis must match exactly"
     ]
    }
   ],
   "source": [
    "dec_Xs_val_file = read_file(\"dec_Xs_val_full_mfcc.txt\")\n",
    "ques_Xs_val_file = read_file(\"ques_Xs_val_full_mfcc.txt\")"
   ]
  },
  {
   "cell_type": "code",
   "execution_count": null,
   "metadata": {},
   "outputs": [],
   "source": [
    "print(len(dec_Xs_val_file), dec_Xs_val_file[0].shape)\n",
    "print(len(ques_Xs_val_file), ques_Xs_val_file[0].shape)"
   ]
  },
  {
   "cell_type": "code",
   "execution_count": 9,
   "metadata": {},
   "outputs": [
    {
     "name": "stdout",
     "output_type": "stream",
     "text": [
      "134268\n",
      "145791\n"
     ]
    }
   ],
   "source": [
    "dec_Xs_test_file = read_file(\"dec_Xs_test_full_mfcc.txt\")\n",
    "ques_Xs_test_file = read_file(\"ques_Xs_test_full_mfcc.txt\")\n"
   ]
  },
  {
   "cell_type": "code",
   "execution_count": null,
   "metadata": {},
   "outputs": [],
   "source": [
    "dec_Xs_train_file = read_file(\"dec_Xs_train_full_mfcc.txt\")\n",
    "ques_Xs_train_file = read_file(\"ques_Xs_train_full_mfcc.txt\")"
   ]
  },
  {
   "cell_type": "markdown",
   "metadata": {},
   "source": [
    "### Read Spectogram data from file"
   ]
  },
  {
   "cell_type": "markdown",
   "metadata": {},
   "source": [
    "Run this or other."
   ]
  },
  {
   "cell_type": "code",
   "execution_count": null,
   "metadata": {},
   "outputs": [],
   "source": [
    "dec_Xs_val_file = read_file(\"dec_Xs_val_full_spec.txt\")\n",
    "ques_Xs_val_file = read_file(\"ques_Xs_val_full_spec.txt\")"
   ]
  },
  {
   "cell_type": "code",
   "execution_count": null,
   "metadata": {},
   "outputs": [],
   "source": [
    "print(len(dec_Xs_val_file), dec_Xs_val_file[0].shape)\n",
    "print(len(ques_Xs_val_file), ques_Xs_val_file[0].shape)"
   ]
  },
  {
   "cell_type": "code",
   "execution_count": null,
   "metadata": {},
   "outputs": [],
   "source": [
    "dec_Xs_test_file = read_file(\"dec_Xs_test_full_spec.txt\")\n",
    "ques_Xs_test_file = read_file(\"ques_Xs_test_full_spec.txt\")"
   ]
  },
  {
   "cell_type": "code",
   "execution_count": 11,
   "metadata": {},
   "outputs": [
    {
     "name": "stdout",
     "output_type": "stream",
     "text": [
      "578655\n"
     ]
    }
   ],
   "source": [
    "dec_Xs_train_file = read_file(\"dec_Xs_train_full_spec.txt\")\n",
    "ques_Xs_train_file = read_file(\"ques_Xs_train_full_spec.txt\")"
   ]
  },
  {
   "cell_type": "markdown",
   "metadata": {},
   "source": [
    "### Create Label data for 2 classes"
   ]
  },
  {
   "cell_type": "code",
   "execution_count": 12,
   "metadata": {},
   "outputs": [],
   "source": [
    "dec_Ys_train_file = to_categorical(np.ones(len(dec_Xs_train_file)),2)\n",
    "dec_Ys_test_file = to_categorical(np.ones(len(dec_Xs_test_file)),2)\n",
    "dec_Ys_val_file = to_categorical(np.ones(len(dec_Xs_val_file)),2)"
   ]
  },
  {
   "cell_type": "code",
   "execution_count": 13,
   "metadata": {},
   "outputs": [],
   "source": [
    "ques_Ys_train_file = to_categorical(np.zeros(len(ques_Xs_train_file)),2)\n",
    "ques_Ys_test_file = to_categorical(np.zeros(len(ques_Xs_test_file)),2)\n",
    "ques_Ys_val_file = to_categorical(np.zeros(len(ques_Xs_val_file)),2)"
   ]
  },
  {
   "cell_type": "code",
   "execution_count": 14,
   "metadata": {},
   "outputs": [
    {
     "name": "stdout",
     "output_type": "stream",
     "text": [
      "(500, 40)\n"
     ]
    },
    {
     "data": {
      "text/plain": [
       "55"
      ]
     },
     "execution_count": 14,
     "metadata": {},
     "output_type": "execute_result"
    }
   ],
   "source": [
    "print(dec_Xs_val_file[0].shape)\n",
    "len(dec_Xs_val_file)"
   ]
  },
  {
   "cell_type": "code",
   "execution_count": 15,
   "metadata": {},
   "outputs": [
    {
     "name": "stdout",
     "output_type": "stream",
     "text": [
      "bx (2467, 500, 40) by (2467, 2)\n"
     ]
    }
   ],
   "source": [
    "bx = np.concatenate( (dec_Xs_train_file,ques_Xs_train_file), axis = 0)\n",
    "by = np.concatenate( (dec_Ys_train_file,ques_Ys_train_file), axis = 0)\n",
    "print('bx',bx.shape, 'by', by.shape)"
   ]
  },
  {
   "cell_type": "code",
   "execution_count": 16,
   "metadata": {},
   "outputs": [
    {
     "name": "stdout",
     "output_type": "stream",
     "text": [
      "bx_val (124, 500, 40) by_val (124, 2)\n"
     ]
    }
   ],
   "source": [
    "bx_val = np.concatenate( (dec_Xs_val_file,ques_Xs_val_file), axis = 0)\n",
    "by_val = np.concatenate( (dec_Ys_val_file,ques_Ys_val_file), axis = 0)\n",
    "print('bx_val',bx_val.shape, 'by_val', by_val.shape)"
   ]
  },
  {
   "cell_type": "code",
   "execution_count": 17,
   "metadata": {},
   "outputs": [],
   "source": [
    "n = bx.shape[0]\n",
    "suffle_n = np.random.permutation(n)\n",
    "\n",
    "bx = bx[suffle_n]\n",
    "by = by[suffle_n]"
   ]
  },
  {
   "cell_type": "code",
   "execution_count": 18,
   "metadata": {},
   "outputs": [],
   "source": [
    "n = bx_val.shape[0]\n",
    "suffle_n = np.random.permutation(n)\n",
    "\n",
    "bx_val = bx_val[suffle_n]\n",
    "by_val = by_val[suffle_n]"
   ]
  },
  {
   "cell_type": "code",
   "execution_count": 19,
   "metadata": {},
   "outputs": [],
   "source": [
    "import tensorflow as tf\n",
    "from keras.backend.tensorflow_backend import set_session\n",
    "config = tf.ConfigProto()\n",
    "config.gpu_options.per_process_gpu_memory_fraction = 0.33\n",
    "set_session(tf.Session(config=config))"
   ]
  },
  {
   "cell_type": "markdown",
   "metadata": {},
   "source": [
    "### Model"
   ]
  },
  {
   "cell_type": "code",
   "execution_count": 20,
   "metadata": {},
   "outputs": [],
   "source": [
    "height, width, depth = Max_RNN, 40, 1 # MNIST images are 28x28 and greyscale\n",
    "num_classes = 2 # there are 10 classes (1 per digit)\n",
    "\n",
    "\n",
    "batch_size = 32 # in each iteration, we consider 32 training examples at once\n",
    "num_epochs = 200 # we iterate 200 times over the entire training set\n",
    "kernel_size = 3 # we will use 3x3 kernels throughout\n",
    "pool_size = 2 # we will use 2x2 pooling throughout\n",
    "\n",
    "conv_depth_1 = 32 # we will initially have 32 kernels per conv. layer...\n",
    "conv_depth_2 = 64 # ...switching to 64 after the first pooling layer\n",
    "\n",
    "drop_prob_1 = 0.25 # dropout after pooling with probability 0.25\n",
    "\n",
    "hidden_size = 512 # the FC layer will have 512 neurons"
   ]
  },
  {
   "cell_type": "code",
   "execution_count": 21,
   "metadata": {},
   "outputs": [
    {
     "name": "stdout",
     "output_type": "stream",
     "text": [
      "bx (2467, 500, 40, 1) by (2467, 2)\n"
     ]
    }
   ],
   "source": [
    "bx=bx[:,:,:,np.newaxis]\n",
    "print('bx',bx.shape, 'by', by.shape)\n",
    "\n",
    "bx_val=bx_val[:,:,:,np.newaxis]"
   ]
  },
  {
   "cell_type": "code",
   "execution_count": 22,
   "metadata": {},
   "outputs": [
    {
     "name": "stdout",
     "output_type": "stream",
     "text": [
      "(?, 31, 2, 32)\n",
      "(?, ?, 32)\n",
      "_________________________________________________________________\n",
      "Layer (type)                 Output Shape              Param #   \n",
      "=================================================================\n",
      "input_1 (InputLayer)         (None, 500, 40, 1)        0         \n",
      "_________________________________________________________________\n",
      "bn_0_freq (BatchNormalizatio (None, 500, 40, 1)        160       \n",
      "_________________________________________________________________\n",
      "conv1 (Conv2D)               (None, 500, 40, 32)       320       \n",
      "_________________________________________________________________\n",
      "bn1 (BatchNormalization)     (None, 500, 40, 32)       2000      \n",
      "_________________________________________________________________\n",
      "pool1 (MaxPooling2D)         (None, 250, 20, 32)       0         \n",
      "_________________________________________________________________\n",
      "dropout1 (Dropout)           (None, 250, 20, 32)       0         \n",
      "_________________________________________________________________\n",
      "conv2 (Conv2D)               (None, 250, 20, 64)       18496     \n",
      "_________________________________________________________________\n",
      "bn2 (BatchNormalization)     (None, 250, 20, 64)       1000      \n",
      "_________________________________________________________________\n",
      "pool2 (MaxPooling2D)         (None, 125, 10, 64)       0         \n",
      "_________________________________________________________________\n",
      "dropout2 (Dropout)           (None, 125, 10, 64)       0         \n",
      "_________________________________________________________________\n",
      "conv3 (Conv2D)               (None, 125, 10, 32)       18464     \n",
      "_________________________________________________________________\n",
      "bn3 (BatchNormalization)     (None, 125, 10, 32)       500       \n",
      "_________________________________________________________________\n",
      "pool3 (MaxPooling2D)         (None, 62, 5, 32)         0         \n",
      "_________________________________________________________________\n",
      "dropout3 (Dropout)           (None, 62, 5, 32)         0         \n",
      "_________________________________________________________________\n",
      "conv4 (Conv2D)               (None, 62, 5, 32)         9248      \n",
      "_________________________________________________________________\n",
      "bn4 (BatchNormalization)     (None, 62, 5, 32)         248       \n",
      "_________________________________________________________________\n",
      "pool4 (MaxPooling2D)         (None, 31, 2, 32)         0         \n",
      "_________________________________________________________________\n",
      "dropout4 (Dropout)           (None, 31, 2, 32)         0         \n",
      "_________________________________________________________________\n",
      "reshape_1 (Reshape)          (None, 62, 32)            0         \n",
      "_________________________________________________________________\n",
      "bd1 (Bidirectional)          (None, 200)               79800     \n",
      "_________________________________________________________________\n",
      "dropout_1 (Dropout)          (None, 200)               0         \n",
      "_________________________________________________________________\n",
      "output (Dense)               (None, 2)                 402       \n",
      "=================================================================\n",
      "Total params: 130,638\n",
      "Trainable params: 128,684\n",
      "Non-trainable params: 1,954\n",
      "_________________________________________________________________\n",
      "None\n"
     ]
    }
   ],
   "source": [
    "# Max_RNN = 1500\n",
    "\n",
    "# create the model\n",
    "\n",
    "inp = Input(shape=(height, width, depth)) # depth goes last in TensorFlow back-end (first in Theano)\n",
    "\n",
    "# Input block\n",
    "# x = ZeroPadding2D(padding=(2, 2))(inp)\n",
    "x = BatchNormalization(axis=2, name='bn_0_freq')(inp)\n",
    "\n",
    "# Conv block 1\n",
    "x = Convolution2D(conv_depth_1, (kernel_size, kernel_size), padding='same', name='conv1')(x)\n",
    "x = BatchNormalization(axis=1, name='bn1')(x)\n",
    "# x = ELU()(x)\n",
    "x = MaxPooling2D(pool_size=(2, 2), strides=(2, 2), name='pool1')(x)\n",
    "x = Dropout(0.1, name='dropout1')(x)\n",
    "\n",
    "\n",
    "# Conv block 2\n",
    "x = Convolution2D(conv_depth_2, (kernel_size, kernel_size), padding='same', name='conv2')(x)\n",
    "x = BatchNormalization(axis=1,  name='bn2')(x)\n",
    "# x = ELU()(x)\n",
    "x = MaxPooling2D(pool_size=(2, 2), strides=(2, 2), name='pool2')(x)\n",
    "x = Dropout(0.1, name='dropout2')(x)\n",
    "\n",
    "# Conv block 3\n",
    "x = Convolution2D(conv_depth_2, (kernel_size, kernel_size), padding='same', name='conv3')(x)\n",
    "x = BatchNormalization(axis=1, name='bn3')(x)\n",
    "# x = ELU()(x)\n",
    "x = MaxPooling2D(pool_size=(2, 2), strides=(2, 2), name='pool3')(x)\n",
    "x = Dropout(0.1, name='dropout3')(x)\n",
    "\n",
    "# Conv block 4\n",
    "x = Convolution2D(conv_depth_2, (kernel_size, kernel_size), padding='same', name='conv4')(x)\n",
    "x = BatchNormalization(axis=1,  name='bn4')(x)\n",
    "# x = ELU()(x)\n",
    "x = MaxPooling2D(pool_size=(2, 2), strides=(2, 2), name='pool4')(x)\n",
    "x = Dropout(0.1, name='dropout4')(x)\n",
    "    \n",
    "print (x.shape)\n",
    "\n",
    "# reshaping\n",
    "x = Reshape((-1, 32))(x)\n",
    "print (x.shape)\n",
    "\n",
    "# GRU block 1, 2, output\n",
    "x = Bidirectional(GRU(100, return_sequences=False, name='gru1'), name='bd1')(x)\n",
    "x = Dropout(0.3)(x)\n",
    "\n",
    "x = Dense(2, activation='sigmoid', name='output')(x)\n",
    "\n",
    "model = Model(inp,x)\n",
    "model.compile(loss='categorical_crossentropy', # using the cross-entropy loss function\n",
    "              optimizer='adam', # using the Adam optimiser\n",
    "              metrics=['accuracy']) # reporting the accuracy\n",
    "\n",
    "print(model.summary())"
   ]
  },
  {
   "cell_type": "code",
   "execution_count": 26,
   "metadata": {},
   "outputs": [
    {
     "name": "stdout",
     "output_type": "stream",
     "text": [
      "Train on 2467 samples, validate on 124 samples\n",
      "Epoch 1/20\n",
      "\r",
      "  64/2467 [..............................] - ETA: 6s - loss: 0.0054 - acc: 1.0000"
     ]
    },
    {
     "name": "stderr",
     "output_type": "stream",
     "text": [
      "/N/u/knayem/.conda/envs/b659/lib/python3.6/site-packages/ipykernel_launcher.py:1: UserWarning: The `nb_epoch` argument in `fit` has been renamed `epochs`.\n",
      "  \"\"\"Entry point for launching an IPython kernel.\n"
     ]
    },
    {
     "name": "stdout",
     "output_type": "stream",
     "text": [
      "2467/2467 [==============================] - 6s 3ms/step - loss: 0.0131 - acc: 0.9951 - val_loss: 0.1295 - val_acc: 0.9677\n",
      "Epoch 2/20\n",
      "2467/2467 [==============================] - 6s 3ms/step - loss: 0.0123 - acc: 0.9964 - val_loss: 0.0459 - val_acc: 0.9677\n",
      "Epoch 3/20\n",
      "2467/2467 [==============================] - 6s 2ms/step - loss: 0.0061 - acc: 0.9976 - val_loss: 0.0520 - val_acc: 0.9919\n",
      "Epoch 4/20\n",
      "2467/2467 [==============================] - 6s 2ms/step - loss: 0.0159 - acc: 0.9951 - val_loss: 0.0607 - val_acc: 0.9677\n",
      "Epoch 5/20\n",
      "2467/2467 [==============================] - 6s 3ms/step - loss: 0.0116 - acc: 0.9968 - val_loss: 0.0320 - val_acc: 0.9839\n",
      "Epoch 6/20\n",
      "2467/2467 [==============================] - 6s 3ms/step - loss: 0.0058 - acc: 0.9976 - val_loss: 0.1096 - val_acc: 0.9435\n",
      "Epoch 7/20\n",
      "2467/2467 [==============================] - 6s 3ms/step - loss: 0.0065 - acc: 0.9980 - val_loss: 0.0314 - val_acc: 0.9839\n",
      "Epoch 8/20\n",
      "2467/2467 [==============================] - 6s 2ms/step - loss: 0.0045 - acc: 0.9988 - val_loss: 0.0180 - val_acc: 0.9919\n",
      "Epoch 9/20\n",
      "2467/2467 [==============================] - 6s 3ms/step - loss: 0.0034 - acc: 0.9988 - val_loss: 0.0048 - val_acc: 1.0000\n",
      "Epoch 10/20\n",
      "2467/2467 [==============================] - 6s 3ms/step - loss: 0.0012 - acc: 1.0000 - val_loss: 0.0474 - val_acc: 0.9839\n",
      "Epoch 11/20\n",
      "2467/2467 [==============================] - 6s 3ms/step - loss: 0.0014 - acc: 0.9996 - val_loss: 0.0206 - val_acc: 0.9919\n",
      "Epoch 12/20\n",
      "2467/2467 [==============================] - 6s 2ms/step - loss: 0.0040 - acc: 0.9988 - val_loss: 0.1991 - val_acc: 0.9274\n",
      "Epoch 13/20\n",
      "2467/2467 [==============================] - 6s 3ms/step - loss: 0.0221 - acc: 0.9919 - val_loss: 0.1384 - val_acc: 0.9597\n",
      "Epoch 14/20\n",
      "2467/2467 [==============================] - 6s 3ms/step - loss: 0.0149 - acc: 0.9939 - val_loss: 0.1528 - val_acc: 0.9677\n",
      "Epoch 15/20\n",
      "2467/2467 [==============================] - 6s 3ms/step - loss: 0.0025 - acc: 0.9992 - val_loss: 0.0401 - val_acc: 0.9839\n",
      "Epoch 16/20\n",
      "2467/2467 [==============================] - 6s 3ms/step - loss: 0.0036 - acc: 0.9988 - val_loss: 0.2095 - val_acc: 0.9355\n",
      "Epoch 17/20\n",
      "2467/2467 [==============================] - 6s 2ms/step - loss: 0.0059 - acc: 0.9964 - val_loss: 0.0979 - val_acc: 0.9597\n",
      "Epoch 18/20\n",
      "2467/2467 [==============================] - 6s 3ms/step - loss: 0.0271 - acc: 0.9907 - val_loss: 0.1141 - val_acc: 0.9758\n",
      "Epoch 19/20\n",
      "2467/2467 [==============================] - 6s 2ms/step - loss: 0.0218 - acc: 0.9927 - val_loss: 0.1888 - val_acc: 0.9597\n",
      "Epoch 20/20\n",
      "2467/2467 [==============================] - 6s 3ms/step - loss: 0.0094 - acc: 0.9964 - val_loss: 0.0408 - val_acc: 0.9839\n"
     ]
    }
   ],
   "source": [
    "history = model.fit(bx, by, validation_data = (bx_val, by_val), shuffle=True, nb_epoch=20, batch_size=64)"
   ]
  },
  {
   "cell_type": "code",
   "execution_count": 27,
   "metadata": {},
   "outputs": [
    {
     "name": "stdout",
     "output_type": "stream",
     "text": [
      "dict_keys(['val_loss', 'val_acc', 'loss', 'acc'])\n"
     ]
    }
   ],
   "source": [
    "# list all data in history\n",
    "print(history.history.keys())"
   ]
  },
  {
   "cell_type": "code",
   "execution_count": 28,
   "metadata": {},
   "outputs": [
    {
     "data": {
      "image/png": "[encoded data removed]",
      "text/plain": [
       "<matplotlib.figure.Figure at 0x7fe78125fb38>"
      ]
     },
     "metadata": {},
     "output_type": "display_data"
    }
   ],
   "source": [
    "# summarize history for accuracy\n",
    "plt.plot(history.history['acc'])\n",
    "plt.plot(history.history['val_acc'])\n",
    "plt.title('model accuracy')\n",
    "plt.ylabel('accuracy')\n",
    "plt.xlabel('epoch')\n",
    "plt.legend(['train', 'val'], loc='upper left')\n",
    "plt.show()"
   ]
  },
  {
   "cell_type": "code",
   "execution_count": 29,
   "metadata": {},
   "outputs": [
    {
     "data": {
      "image/png": "[encoded data removed]",
      "text/plain": [
       "<matplotlib.figure.Figure at 0x7fe78139a048>"
      ]
     },
     "metadata": {},
     "output_type": "display_data"
    }
   ],
   "source": [
    "# summarize history for loss\n",
    "plt.plot(history.history['loss'])\n",
    "plt.plot(history.history['val_loss'])\n",
    "plt.title('model loss')\n",
    "plt.ylabel('loss')\n",
    "plt.xlabel('epoch')\n",
    "plt.legend(['train', 'val'], loc='upper left')\n",
    "plt.show()"
   ]
  },
  {
   "cell_type": "code",
   "execution_count": 25,
   "metadata": {},
   "outputs": [
    {
     "name": "stdout",
     "output_type": "stream",
     "text": [
      "Accuracy: 96.96%\n"
     ]
    }
   ],
   "source": [
    "bx_test = np.concatenate( (dec_Xs_test_file, ques_Xs_test_file), axis = 0)\n",
    "by_test = np.concatenate( (dec_Ys_test_file, ques_Ys_test_file), axis = 0)\n",
    "\n",
    "bx_test=bx_test[:,:,:,np.newaxis]\n",
    "\n",
    "scores = model.evaluate(bx_test, by_test, verbose=0)\n",
    "print(\"Accuracy: %.2f%%\" % (scores[1]*100))"
   ]
  }
 ],
 "metadata": {
  "kernelspec": {
   "display_name": "Python 3",
   "language": "python",
   "name": "python3"
  },
  "language_info": {
   "codemirror_mode": {
    "name": "ipython",
    "version": 3
   },
   "file_extension": ".py",
   "mimetype": "text/x-python",
   "name": "python",
   "nbconvert_exporter": "python",
   "pygments_lexer": "ipython3",
   "version": "3.6.4"
  }
 },
 "nbformat": 4,
 "nbformat_minor": 2
}
